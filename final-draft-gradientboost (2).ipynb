{
 "cells": [
  {
   "cell_type": "code",
   "execution_count": 1,
   "id": "e0c1a5d5",
   "metadata": {
    "_cell_guid": "b1076dfc-b9ad-4769-8c92-a6c4dae69d19",
    "_uuid": "8f2839f25d086af736a60e9eeb907d3b93b6e0e5",
    "execution": {
     "iopub.execute_input": "2022-08-17T11:13:55.559380Z",
     "iopub.status.busy": "2022-08-17T11:13:55.558959Z",
     "iopub.status.idle": "2022-08-17T11:13:55.572208Z",
     "shell.execute_reply": "2022-08-17T11:13:55.571433Z"
    },
    "papermill": {
     "duration": 0.027446,
     "end_time": "2022-08-17T11:13:55.574544",
     "exception": false,
     "start_time": "2022-08-17T11:13:55.547098",
     "status": "completed"
    },
    "tags": []
   },
   "outputs": [
    {
     "name": "stdout",
     "output_type": "stream",
     "text": [
      "/kaggle/input/students-drop-out-prediction/train.csv\n",
      "/kaggle/input/students-drop-out-prediction/test.csv\n"
     ]
    }
   ],
   "source": [
    "# This Python 3 environment comes with many helpful analytics libraries installed\n",
    "# It is defined by the kaggle/python Docker image: https://github.com/kaggle/docker-python\n",
    "# For example, here's several helpful packages to load\n",
    "\n",
    "import numpy as np # linear algebra\n",
    "import pandas as pd # data processing, CSV file I/O (e.g. pd.read_csv)\n",
    "\n",
    "# Input data files are available in the read-only \"../input/\" directory\n",
    "# For example, running this (by clicking run or pressing Shift+Enter) will list all files under the input directory\n",
    "\n",
    "import os\n",
    "for dirname, _, filenames in os.walk('/kaggle/input'):\n",
    "    for filename in filenames:\n",
    "        print(os.path.join(dirname, filename))\n",
    "\n",
    "# You can write up to 20GB to the current directory (/kaggle/working/) that gets preserved as output when you create a version using \"Save & Run All\" \n",
    "# You can also write temporary files to /kaggle/temp/, but they won't be saved outside of the current session"
   ]
  },
  {
   "cell_type": "code",
   "execution_count": 2,
   "id": "9420f934",
   "metadata": {
    "execution": {
     "iopub.execute_input": "2022-08-17T11:13:55.593960Z",
     "iopub.status.busy": "2022-08-17T11:13:55.593277Z",
     "iopub.status.idle": "2022-08-17T11:13:56.521190Z",
     "shell.execute_reply": "2022-08-17T11:13:56.520053Z"
    },
    "papermill": {
     "duration": 0.9401,
     "end_time": "2022-08-17T11:13:56.523697",
     "exception": false,
     "start_time": "2022-08-17T11:13:55.583597",
     "status": "completed"
    },
    "tags": []
   },
   "outputs": [],
   "source": [
    "#loading the libraries\n",
    "import pandas as pd \n",
    "import numpy as np \n",
    "import matplotlib.pyplot as plt \n",
    "import seaborn as sns"
   ]
  },
  {
   "cell_type": "code",
   "execution_count": 3,
   "id": "e3da7bd4",
   "metadata": {
    "execution": {
     "iopub.execute_input": "2022-08-17T11:13:56.543138Z",
     "iopub.status.busy": "2022-08-17T11:13:56.542065Z",
     "iopub.status.idle": "2022-08-17T11:13:56.616537Z",
     "shell.execute_reply": "2022-08-17T11:13:56.615499Z"
    },
    "papermill": {
     "duration": 0.086408,
     "end_time": "2022-08-17T11:13:56.618976",
     "exception": false,
     "start_time": "2022-08-17T11:13:56.532568",
     "status": "completed"
    },
    "tags": []
   },
   "outputs": [
    {
     "data": {
      "text/html": [
       "<div>\n",
       "<style scoped>\n",
       "    .dataframe tbody tr th:only-of-type {\n",
       "        vertical-align: middle;\n",
       "    }\n",
       "\n",
       "    .dataframe tbody tr th {\n",
       "        vertical-align: top;\n",
       "    }\n",
       "\n",
       "    .dataframe thead th {\n",
       "        text-align: right;\n",
       "    }\n",
       "</style>\n",
       "<table border=\"1\" class=\"dataframe\">\n",
       "  <thead>\n",
       "    <tr style=\"text-align: right;\">\n",
       "      <th></th>\n",
       "      <th>id</th>\n",
       "      <th>v_21</th>\n",
       "      <th>v_32</th>\n",
       "      <th>v_15</th>\n",
       "      <th>v_4</th>\n",
       "      <th>v_1</th>\n",
       "      <th>v_8</th>\n",
       "      <th>v_12</th>\n",
       "      <th>v_25</th>\n",
       "      <th>v_20</th>\n",
       "      <th>...</th>\n",
       "      <th>v_2</th>\n",
       "      <th>v_16</th>\n",
       "      <th>v_34</th>\n",
       "      <th>v_35</th>\n",
       "      <th>v_36</th>\n",
       "      <th>v_37</th>\n",
       "      <th>v_38</th>\n",
       "      <th>v_39</th>\n",
       "      <th>v_40</th>\n",
       "      <th>label</th>\n",
       "    </tr>\n",
       "  </thead>\n",
       "  <tbody>\n",
       "    <tr>\n",
       "      <th>0</th>\n",
       "      <td>0</td>\n",
       "      <td>3</td>\n",
       "      <td>6</td>\n",
       "      <td>11</td>\n",
       "      <td>55</td>\n",
       "      <td>1</td>\n",
       "      <td>1</td>\n",
       "      <td>16</td>\n",
       "      <td>5</td>\n",
       "      <td>60</td>\n",
       "      <td>...</td>\n",
       "      <td>-0.3</td>\n",
       "      <td>0.79</td>\n",
       "      <td>1</td>\n",
       "      <td>93</td>\n",
       "      <td>47</td>\n",
       "      <td>1</td>\n",
       "      <td>48</td>\n",
       "      <td>26</td>\n",
       "      <td>0</td>\n",
       "      <td>1</td>\n",
       "    </tr>\n",
       "    <tr>\n",
       "      <th>1</th>\n",
       "      <td>1</td>\n",
       "      <td>8</td>\n",
       "      <td>94</td>\n",
       "      <td>12</td>\n",
       "      <td>65</td>\n",
       "      <td>1</td>\n",
       "      <td>4</td>\n",
       "      <td>22</td>\n",
       "      <td>4</td>\n",
       "      <td>173</td>\n",
       "      <td>...</td>\n",
       "      <td>5.4</td>\n",
       "      <td>6.51</td>\n",
       "      <td>6</td>\n",
       "      <td>29</td>\n",
       "      <td>37</td>\n",
       "      <td>25</td>\n",
       "      <td>53</td>\n",
       "      <td>35</td>\n",
       "      <td>7</td>\n",
       "      <td>2</td>\n",
       "    </tr>\n",
       "    <tr>\n",
       "      <th>2</th>\n",
       "      <td>2</td>\n",
       "      <td>3</td>\n",
       "      <td>166</td>\n",
       "      <td>10</td>\n",
       "      <td>155</td>\n",
       "      <td>1</td>\n",
       "      <td>1</td>\n",
       "      <td>16</td>\n",
       "      <td>1</td>\n",
       "      <td>309</td>\n",
       "      <td>...</td>\n",
       "      <td>0.6</td>\n",
       "      <td>2.02</td>\n",
       "      <td>1</td>\n",
       "      <td>8</td>\n",
       "      <td>34</td>\n",
       "      <td>4</td>\n",
       "      <td>43</td>\n",
       "      <td>38</td>\n",
       "      <td>2</td>\n",
       "      <td>1</td>\n",
       "    </tr>\n",
       "    <tr>\n",
       "      <th>3</th>\n",
       "      <td>3</td>\n",
       "      <td>3</td>\n",
       "      <td>6</td>\n",
       "      <td>13</td>\n",
       "      <td>121</td>\n",
       "      <td>1</td>\n",
       "      <td>1</td>\n",
       "      <td>16</td>\n",
       "      <td>1</td>\n",
       "      <td>6</td>\n",
       "      <td>...</td>\n",
       "      <td>0.6</td>\n",
       "      <td>2.02</td>\n",
       "      <td>7</td>\n",
       "      <td>37</td>\n",
       "      <td>40</td>\n",
       "      <td>27</td>\n",
       "      <td>43</td>\n",
       "      <td>65</td>\n",
       "      <td>0</td>\n",
       "      <td>1</td>\n",
       "    </tr>\n",
       "    <tr>\n",
       "      <th>4</th>\n",
       "      <td>4</td>\n",
       "      <td>4</td>\n",
       "      <td>51</td>\n",
       "      <td>18</td>\n",
       "      <td>21</td>\n",
       "      <td>1</td>\n",
       "      <td>17</td>\n",
       "      <td>22</td>\n",
       "      <td>118</td>\n",
       "      <td>168</td>\n",
       "      <td>...</td>\n",
       "      <td>8.4</td>\n",
       "      <td>12.51</td>\n",
       "      <td>16</td>\n",
       "      <td>22</td>\n",
       "      <td>25</td>\n",
       "      <td>25</td>\n",
       "      <td>24</td>\n",
       "      <td>23</td>\n",
       "      <td>1</td>\n",
       "      <td>1</td>\n",
       "    </tr>\n",
       "  </tbody>\n",
       "</table>\n",
       "<p>5 rows × 43 columns</p>\n",
       "</div>"
      ],
      "text/plain": [
       "   id  v_21  v_32  v_15  v_4  v_1  v_8  v_12  v_25  v_20  ...  v_2   v_16  \\\n",
       "0   0     3     6    11   55    1    1    16     5    60  ... -0.3   0.79   \n",
       "1   1     8    94    12   65    1    4    22     4   173  ...  5.4   6.51   \n",
       "2   2     3   166    10  155    1    1    16     1   309  ...  0.6   2.02   \n",
       "3   3     3     6    13  121    1    1    16     1     6  ...  0.6   2.02   \n",
       "4   4     4    51    18   21    1   17    22   118   168  ...  8.4  12.51   \n",
       "\n",
       "   v_34  v_35  v_36  v_37  v_38  v_39  v_40  label  \n",
       "0     1    93    47     1    48    26     0      1  \n",
       "1     6    29    37    25    53    35     7      2  \n",
       "2     1     8    34     4    43    38     2      1  \n",
       "3     7    37    40    27    43    65     0      1  \n",
       "4    16    22    25    25    24    23     1      1  \n",
       "\n",
       "[5 rows x 43 columns]"
      ]
     },
     "execution_count": 3,
     "metadata": {},
     "output_type": "execute_result"
    }
   ],
   "source": [
    "#loading the data\n",
    "data = pd.read_csv('../input/students-drop-out-prediction/train.csv')\n",
    "data.head()"
   ]
  },
  {
   "cell_type": "code",
   "execution_count": 4,
   "id": "e2624772",
   "metadata": {
    "execution": {
     "iopub.execute_input": "2022-08-17T11:13:56.638668Z",
     "iopub.status.busy": "2022-08-17T11:13:56.638276Z",
     "iopub.status.idle": "2022-08-17T11:13:56.663846Z",
     "shell.execute_reply": "2022-08-17T11:13:56.662826Z"
    },
    "papermill": {
     "duration": 0.037759,
     "end_time": "2022-08-17T11:13:56.666086",
     "exception": false,
     "start_time": "2022-08-17T11:13:56.628327",
     "status": "completed"
    },
    "tags": []
   },
   "outputs": [
    {
     "data": {
      "text/html": [
       "<div>\n",
       "<style scoped>\n",
       "    .dataframe tbody tr th:only-of-type {\n",
       "        vertical-align: middle;\n",
       "    }\n",
       "\n",
       "    .dataframe tbody tr th {\n",
       "        vertical-align: top;\n",
       "    }\n",
       "\n",
       "    .dataframe thead th {\n",
       "        text-align: right;\n",
       "    }\n",
       "</style>\n",
       "<table border=\"1\" class=\"dataframe\">\n",
       "  <thead>\n",
       "    <tr style=\"text-align: right;\">\n",
       "      <th></th>\n",
       "      <th>id</th>\n",
       "      <th>v_21</th>\n",
       "      <th>v_32</th>\n",
       "      <th>v_15</th>\n",
       "      <th>v_4</th>\n",
       "      <th>v_1</th>\n",
       "      <th>v_8</th>\n",
       "      <th>v_12</th>\n",
       "      <th>v_25</th>\n",
       "      <th>v_20</th>\n",
       "      <th>...</th>\n",
       "      <th>v_7</th>\n",
       "      <th>v_2</th>\n",
       "      <th>v_16</th>\n",
       "      <th>v_34</th>\n",
       "      <th>v_35</th>\n",
       "      <th>v_36</th>\n",
       "      <th>v_37</th>\n",
       "      <th>v_38</th>\n",
       "      <th>v_39</th>\n",
       "      <th>v_40</th>\n",
       "    </tr>\n",
       "  </thead>\n",
       "  <tbody>\n",
       "    <tr>\n",
       "      <th>0</th>\n",
       "      <td>0</td>\n",
       "      <td>3</td>\n",
       "      <td>6</td>\n",
       "      <td>11</td>\n",
       "      <td>55</td>\n",
       "      <td>1</td>\n",
       "      <td>1</td>\n",
       "      <td>16</td>\n",
       "      <td>5</td>\n",
       "      <td>60</td>\n",
       "      <td>...</td>\n",
       "      <td>13.9</td>\n",
       "      <td>-0.3</td>\n",
       "      <td>0.79</td>\n",
       "      <td>1</td>\n",
       "      <td>93</td>\n",
       "      <td>47</td>\n",
       "      <td>1</td>\n",
       "      <td>48</td>\n",
       "      <td>26</td>\n",
       "      <td>0</td>\n",
       "    </tr>\n",
       "    <tr>\n",
       "      <th>1</th>\n",
       "      <td>1</td>\n",
       "      <td>8</td>\n",
       "      <td>94</td>\n",
       "      <td>12</td>\n",
       "      <td>65</td>\n",
       "      <td>1</td>\n",
       "      <td>4</td>\n",
       "      <td>22</td>\n",
       "      <td>4</td>\n",
       "      <td>173</td>\n",
       "      <td>...</td>\n",
       "      <td>14.9</td>\n",
       "      <td>5.4</td>\n",
       "      <td>6.51</td>\n",
       "      <td>6</td>\n",
       "      <td>29</td>\n",
       "      <td>37</td>\n",
       "      <td>25</td>\n",
       "      <td>53</td>\n",
       "      <td>35</td>\n",
       "      <td>7</td>\n",
       "    </tr>\n",
       "    <tr>\n",
       "      <th>2</th>\n",
       "      <td>2</td>\n",
       "      <td>3</td>\n",
       "      <td>166</td>\n",
       "      <td>10</td>\n",
       "      <td>155</td>\n",
       "      <td>1</td>\n",
       "      <td>1</td>\n",
       "      <td>16</td>\n",
       "      <td>1</td>\n",
       "      <td>309</td>\n",
       "      <td>...</td>\n",
       "      <td>11.1</td>\n",
       "      <td>0.6</td>\n",
       "      <td>2.02</td>\n",
       "      <td>1</td>\n",
       "      <td>8</td>\n",
       "      <td>34</td>\n",
       "      <td>4</td>\n",
       "      <td>43</td>\n",
       "      <td>38</td>\n",
       "      <td>2</td>\n",
       "    </tr>\n",
       "    <tr>\n",
       "      <th>3</th>\n",
       "      <td>3</td>\n",
       "      <td>3</td>\n",
       "      <td>6</td>\n",
       "      <td>13</td>\n",
       "      <td>121</td>\n",
       "      <td>1</td>\n",
       "      <td>1</td>\n",
       "      <td>16</td>\n",
       "      <td>1</td>\n",
       "      <td>6</td>\n",
       "      <td>...</td>\n",
       "      <td>11.1</td>\n",
       "      <td>0.6</td>\n",
       "      <td>2.02</td>\n",
       "      <td>7</td>\n",
       "      <td>37</td>\n",
       "      <td>40</td>\n",
       "      <td>27</td>\n",
       "      <td>43</td>\n",
       "      <td>65</td>\n",
       "      <td>0</td>\n",
       "    </tr>\n",
       "    <tr>\n",
       "      <th>4</th>\n",
       "      <td>4</td>\n",
       "      <td>4</td>\n",
       "      <td>51</td>\n",
       "      <td>18</td>\n",
       "      <td>21</td>\n",
       "      <td>1</td>\n",
       "      <td>17</td>\n",
       "      <td>22</td>\n",
       "      <td>118</td>\n",
       "      <td>168</td>\n",
       "      <td>...</td>\n",
       "      <td>10.9</td>\n",
       "      <td>8.4</td>\n",
       "      <td>12.51</td>\n",
       "      <td>16</td>\n",
       "      <td>22</td>\n",
       "      <td>25</td>\n",
       "      <td>25</td>\n",
       "      <td>24</td>\n",
       "      <td>23</td>\n",
       "      <td>1</td>\n",
       "    </tr>\n",
       "  </tbody>\n",
       "</table>\n",
       "<p>5 rows × 42 columns</p>\n",
       "</div>"
      ],
      "text/plain": [
       "   id  v_21  v_32  v_15  v_4  v_1  v_8  v_12  v_25  v_20  ...   v_7  v_2  \\\n",
       "0   0     3     6    11   55    1    1    16     5    60  ...  13.9 -0.3   \n",
       "1   1     8    94    12   65    1    4    22     4   173  ...  14.9  5.4   \n",
       "2   2     3   166    10  155    1    1    16     1   309  ...  11.1  0.6   \n",
       "3   3     3     6    13  121    1    1    16     1     6  ...  11.1  0.6   \n",
       "4   4     4    51    18   21    1   17    22   118   168  ...  10.9  8.4   \n",
       "\n",
       "    v_16  v_34  v_35  v_36  v_37  v_38  v_39  v_40  \n",
       "0   0.79     1    93    47     1    48    26     0  \n",
       "1   6.51     6    29    37    25    53    35     7  \n",
       "2   2.02     1     8    34     4    43    38     2  \n",
       "3   2.02     7    37    40    27    43    65     0  \n",
       "4  12.51    16    22    25    25    24    23     1  \n",
       "\n",
       "[5 rows x 42 columns]"
      ]
     },
     "execution_count": 4,
     "metadata": {},
     "output_type": "execute_result"
    }
   ],
   "source": [
    "#splitting the features and label\n",
    "X = data.drop('label',axis = 1)\n",
    "y = data.label\n",
    "\n",
    "X.head()"
   ]
  },
  {
   "cell_type": "code",
   "execution_count": 5,
   "id": "bab52376",
   "metadata": {
    "execution": {
     "iopub.execute_input": "2022-08-17T11:13:56.686608Z",
     "iopub.status.busy": "2022-08-17T11:13:56.686181Z",
     "iopub.status.idle": "2022-08-17T11:13:56.693963Z",
     "shell.execute_reply": "2022-08-17T11:13:56.692913Z"
    },
    "papermill": {
     "duration": 0.020348,
     "end_time": "2022-08-17T11:13:56.696009",
     "exception": false,
     "start_time": "2022-08-17T11:13:56.675661",
     "status": "completed"
    },
    "tags": []
   },
   "outputs": [
    {
     "data": {
      "text/plain": [
       "0    1\n",
       "1    2\n",
       "2    1\n",
       "3    1\n",
       "4    1\n",
       "Name: label, dtype: int64"
      ]
     },
     "execution_count": 5,
     "metadata": {},
     "output_type": "execute_result"
    }
   ],
   "source": [
    "y.head()"
   ]
  },
  {
   "cell_type": "markdown",
   "id": "22fc40af",
   "metadata": {
    "papermill": {
     "duration": 0.00901,
     "end_time": "2022-08-17T11:13:56.714709",
     "exception": false,
     "start_time": "2022-08-17T11:13:56.705699",
     "status": "completed"
    },
    "tags": []
   },
   "source": [
    "**PREPROCESSING**"
   ]
  },
  {
   "cell_type": "code",
   "execution_count": 6,
   "id": "650871ea",
   "metadata": {
    "execution": {
     "iopub.execute_input": "2022-08-17T11:13:56.735038Z",
     "iopub.status.busy": "2022-08-17T11:13:56.734639Z",
     "iopub.status.idle": "2022-08-17T11:13:56.755761Z",
     "shell.execute_reply": "2022-08-17T11:13:56.754712Z"
    },
    "papermill": {
     "duration": 0.033945,
     "end_time": "2022-08-17T11:13:56.757985",
     "exception": false,
     "start_time": "2022-08-17T11:13:56.724040",
     "status": "completed"
    },
    "tags": []
   },
   "outputs": [
    {
     "data": {
      "text/html": [
       "<div>\n",
       "<style scoped>\n",
       "    .dataframe tbody tr th:only-of-type {\n",
       "        vertical-align: middle;\n",
       "    }\n",
       "\n",
       "    .dataframe tbody tr th {\n",
       "        vertical-align: top;\n",
       "    }\n",
       "\n",
       "    .dataframe thead th {\n",
       "        text-align: right;\n",
       "    }\n",
       "</style>\n",
       "<table border=\"1\" class=\"dataframe\">\n",
       "  <thead>\n",
       "    <tr style=\"text-align: right;\">\n",
       "      <th></th>\n",
       "      <th>v_21</th>\n",
       "      <th>v_32</th>\n",
       "      <th>v_15</th>\n",
       "      <th>v_4</th>\n",
       "      <th>v_1</th>\n",
       "      <th>v_8</th>\n",
       "      <th>v_12</th>\n",
       "      <th>v_25</th>\n",
       "      <th>v_20</th>\n",
       "      <th>v_18</th>\n",
       "      <th>...</th>\n",
       "      <th>v_7</th>\n",
       "      <th>v_2</th>\n",
       "      <th>v_16</th>\n",
       "      <th>v_34</th>\n",
       "      <th>v_35</th>\n",
       "      <th>v_36</th>\n",
       "      <th>v_37</th>\n",
       "      <th>v_38</th>\n",
       "      <th>v_39</th>\n",
       "      <th>v_40</th>\n",
       "    </tr>\n",
       "  </thead>\n",
       "  <tbody>\n",
       "    <tr>\n",
       "      <th>0</th>\n",
       "      <td>3</td>\n",
       "      <td>6</td>\n",
       "      <td>11</td>\n",
       "      <td>55</td>\n",
       "      <td>1</td>\n",
       "      <td>1</td>\n",
       "      <td>16</td>\n",
       "      <td>5</td>\n",
       "      <td>60</td>\n",
       "      <td>30</td>\n",
       "      <td>...</td>\n",
       "      <td>13.9</td>\n",
       "      <td>-0.3</td>\n",
       "      <td>0.79</td>\n",
       "      <td>1</td>\n",
       "      <td>93</td>\n",
       "      <td>47</td>\n",
       "      <td>1</td>\n",
       "      <td>48</td>\n",
       "      <td>26</td>\n",
       "      <td>0</td>\n",
       "    </tr>\n",
       "    <tr>\n",
       "      <th>1</th>\n",
       "      <td>8</td>\n",
       "      <td>94</td>\n",
       "      <td>12</td>\n",
       "      <td>65</td>\n",
       "      <td>1</td>\n",
       "      <td>4</td>\n",
       "      <td>22</td>\n",
       "      <td>4</td>\n",
       "      <td>173</td>\n",
       "      <td>199</td>\n",
       "      <td>...</td>\n",
       "      <td>14.9</td>\n",
       "      <td>5.4</td>\n",
       "      <td>6.51</td>\n",
       "      <td>6</td>\n",
       "      <td>29</td>\n",
       "      <td>37</td>\n",
       "      <td>25</td>\n",
       "      <td>53</td>\n",
       "      <td>35</td>\n",
       "      <td>7</td>\n",
       "    </tr>\n",
       "    <tr>\n",
       "      <th>2</th>\n",
       "      <td>3</td>\n",
       "      <td>166</td>\n",
       "      <td>10</td>\n",
       "      <td>155</td>\n",
       "      <td>1</td>\n",
       "      <td>1</td>\n",
       "      <td>16</td>\n",
       "      <td>1</td>\n",
       "      <td>309</td>\n",
       "      <td>30</td>\n",
       "      <td>...</td>\n",
       "      <td>11.1</td>\n",
       "      <td>0.6</td>\n",
       "      <td>2.02</td>\n",
       "      <td>1</td>\n",
       "      <td>8</td>\n",
       "      <td>34</td>\n",
       "      <td>4</td>\n",
       "      <td>43</td>\n",
       "      <td>38</td>\n",
       "      <td>2</td>\n",
       "    </tr>\n",
       "    <tr>\n",
       "      <th>3</th>\n",
       "      <td>3</td>\n",
       "      <td>6</td>\n",
       "      <td>13</td>\n",
       "      <td>121</td>\n",
       "      <td>1</td>\n",
       "      <td>1</td>\n",
       "      <td>16</td>\n",
       "      <td>1</td>\n",
       "      <td>6</td>\n",
       "      <td>23</td>\n",
       "      <td>...</td>\n",
       "      <td>11.1</td>\n",
       "      <td>0.6</td>\n",
       "      <td>2.02</td>\n",
       "      <td>7</td>\n",
       "      <td>37</td>\n",
       "      <td>40</td>\n",
       "      <td>27</td>\n",
       "      <td>43</td>\n",
       "      <td>65</td>\n",
       "      <td>0</td>\n",
       "    </tr>\n",
       "    <tr>\n",
       "      <th>4</th>\n",
       "      <td>4</td>\n",
       "      <td>51</td>\n",
       "      <td>18</td>\n",
       "      <td>21</td>\n",
       "      <td>1</td>\n",
       "      <td>17</td>\n",
       "      <td>22</td>\n",
       "      <td>118</td>\n",
       "      <td>168</td>\n",
       "      <td>106</td>\n",
       "      <td>...</td>\n",
       "      <td>10.9</td>\n",
       "      <td>8.4</td>\n",
       "      <td>12.51</td>\n",
       "      <td>16</td>\n",
       "      <td>22</td>\n",
       "      <td>25</td>\n",
       "      <td>25</td>\n",
       "      <td>24</td>\n",
       "      <td>23</td>\n",
       "      <td>1</td>\n",
       "    </tr>\n",
       "  </tbody>\n",
       "</table>\n",
       "<p>5 rows × 41 columns</p>\n",
       "</div>"
      ],
      "text/plain": [
       "   v_21  v_32  v_15  v_4  v_1  v_8  v_12  v_25  v_20  v_18  ...   v_7  v_2  \\\n",
       "0     3     6    11   55    1    1    16     5    60    30  ...  13.9 -0.3   \n",
       "1     8    94    12   65    1    4    22     4   173   199  ...  14.9  5.4   \n",
       "2     3   166    10  155    1    1    16     1   309    30  ...  11.1  0.6   \n",
       "3     3     6    13  121    1    1    16     1     6    23  ...  11.1  0.6   \n",
       "4     4    51    18   21    1   17    22   118   168   106  ...  10.9  8.4   \n",
       "\n",
       "    v_16  v_34  v_35  v_36  v_37  v_38  v_39  v_40  \n",
       "0   0.79     1    93    47     1    48    26     0  \n",
       "1   6.51     6    29    37    25    53    35     7  \n",
       "2   2.02     1     8    34     4    43    38     2  \n",
       "3   2.02     7    37    40    27    43    65     0  \n",
       "4  12.51    16    22    25    25    24    23     1  \n",
       "\n",
       "[5 rows x 41 columns]"
      ]
     },
     "execution_count": 6,
     "metadata": {},
     "output_type": "execute_result"
    }
   ],
   "source": [
    "#dropping the id column from feature dataframe\n",
    "X = X.drop('id',axis = 1)\n",
    "X.head()"
   ]
  },
  {
   "cell_type": "code",
   "execution_count": 7,
   "id": "f2adb9fe",
   "metadata": {
    "execution": {
     "iopub.execute_input": "2022-08-17T11:13:56.780051Z",
     "iopub.status.busy": "2022-08-17T11:13:56.779680Z",
     "iopub.status.idle": "2022-08-17T11:13:56.958213Z",
     "shell.execute_reply": "2022-08-17T11:13:56.957184Z"
    },
    "papermill": {
     "duration": 0.191768,
     "end_time": "2022-08-17T11:13:56.960480",
     "exception": false,
     "start_time": "2022-08-17T11:13:56.768712",
     "status": "completed"
    },
    "tags": []
   },
   "outputs": [
    {
     "data": {
      "text/plain": [
       "((3036, 41), (760, 41))"
      ]
     },
     "execution_count": 7,
     "metadata": {},
     "output_type": "execute_result"
    }
   ],
   "source": [
    "#splitting the data into train and test data\n",
    "from sklearn.model_selection import train_test_split\n",
    "Xtrain,Xtest,ytrain,ytest = train_test_split(X,y,test_size = 0.20,random_state = 21)\n",
    "Xtrain.shape,Xtest.shape"
   ]
  },
  {
   "cell_type": "code",
   "execution_count": 8,
   "id": "d305d0fb",
   "metadata": {
    "execution": {
     "iopub.execute_input": "2022-08-17T11:13:56.981857Z",
     "iopub.status.busy": "2022-08-17T11:13:56.981460Z",
     "iopub.status.idle": "2022-08-17T11:13:59.781163Z",
     "shell.execute_reply": "2022-08-17T11:13:59.780065Z"
    },
    "papermill": {
     "duration": 2.812973,
     "end_time": "2022-08-17T11:13:59.783373",
     "exception": false,
     "start_time": "2022-08-17T11:13:56.970400",
     "status": "completed"
    },
    "tags": []
   },
   "outputs": [
    {
     "data": {
      "text/plain": [
       "<AxesSubplot:ylabel='Density'>"
      ]
     },
     "execution_count": 8,
     "metadata": {},
     "output_type": "execute_result"
    },
    {
     "data": {
      "image/png": "[encoded data removed]",
      "text/plain": [
       "<Figure size 432x288 with 1 Axes>"
      ]
     },
     "metadata": {
      "needs_background": "light"
     },
     "output_type": "display_data"
    }
   ],
   "source": [
    "Xtrain.plot.kde()"
   ]
  },
  {
   "cell_type": "code",
   "execution_count": 9,
   "id": "d8f56e06",
   "metadata": {
    "execution": {
     "iopub.execute_input": "2022-08-17T11:13:59.806446Z",
     "iopub.status.busy": "2022-08-17T11:13:59.805447Z",
     "iopub.status.idle": "2022-08-17T11:14:01.084427Z",
     "shell.execute_reply": "2022-08-17T11:14:01.083627Z"
    },
    "papermill": {
     "duration": 1.2935,
     "end_time": "2022-08-17T11:14:01.087551",
     "exception": false,
     "start_time": "2022-08-17T11:13:59.794051",
     "status": "completed"
    },
    "tags": []
   },
   "outputs": [
    {
     "data": {
      "text/plain": [
       "<AxesSubplot:ylabel='Density'>"
      ]
     },
     "execution_count": 9,
     "metadata": {},
     "output_type": "execute_result"
    },
    {
     "data": {
      "image/png": "[encoded data removed]",
      "text/plain": [
       "<Figure size 432x288 with 1 Axes>"
      ]
     },
     "metadata": {
      "needs_background": "light"
     },
     "output_type": "display_data"
    }
   ],
   "source": [
    "Xtest.plot.kde()"
   ]
  },
  {
   "cell_type": "markdown",
   "id": "45e72d7e",
   "metadata": {
    "papermill": {
     "duration": 0.011461,
     "end_time": "2022-08-17T11:14:01.115748",
     "exception": false,
     "start_time": "2022-08-17T11:14:01.104287",
     "status": "completed"
    },
    "tags": []
   },
   "source": [
    "**Since some of the features have very high values as compared to the rest of the features, therefore we need to scale the dataset for the model in order to attain good accuracy**"
   ]
  },
  {
   "cell_type": "code",
   "execution_count": 10,
   "id": "c56db305",
   "metadata": {
    "execution": {
     "iopub.execute_input": "2022-08-17T11:14:01.139759Z",
     "iopub.status.busy": "2022-08-17T11:14:01.139361Z",
     "iopub.status.idle": "2022-08-17T11:14:01.145272Z",
     "shell.execute_reply": "2022-08-17T11:14:01.144548Z"
    },
    "papermill": {
     "duration": 0.020634,
     "end_time": "2022-08-17T11:14:01.147577",
     "exception": false,
     "start_time": "2022-08-17T11:14:01.126943",
     "status": "completed"
    },
    "tags": []
   },
   "outputs": [],
   "source": [
    "#importing standardscaler\n",
    "from sklearn.preprocessing import StandardScaler\n",
    "ss = StandardScaler()"
   ]
  },
  {
   "cell_type": "code",
   "execution_count": 11,
   "id": "a92abc4c",
   "metadata": {
    "execution": {
     "iopub.execute_input": "2022-08-17T11:14:01.171904Z",
     "iopub.status.busy": "2022-08-17T11:14:01.171243Z",
     "iopub.status.idle": "2022-08-17T11:14:01.184771Z",
     "shell.execute_reply": "2022-08-17T11:14:01.183934Z"
    },
    "papermill": {
     "duration": 0.028489,
     "end_time": "2022-08-17T11:14:01.187152",
     "exception": false,
     "start_time": "2022-08-17T11:14:01.158663",
     "status": "completed"
    },
    "tags": []
   },
   "outputs": [],
   "source": [
    "Xtrain_ss = ss.fit_transform(Xtrain)\n",
    "Xtest_ss = ss.transform(Xtest)"
   ]
  },
  {
   "cell_type": "code",
   "execution_count": 12,
   "id": "8961a31c",
   "metadata": {
    "execution": {
     "iopub.execute_input": "2022-08-17T11:14:01.211486Z",
     "iopub.status.busy": "2022-08-17T11:14:01.210741Z",
     "iopub.status.idle": "2022-08-17T11:14:03.870617Z",
     "shell.execute_reply": "2022-08-17T11:14:03.869473Z"
    },
    "papermill": {
     "duration": 2.675092,
     "end_time": "2022-08-17T11:14:03.873396",
     "exception": false,
     "start_time": "2022-08-17T11:14:01.198304",
     "status": "completed"
    },
    "tags": []
   },
   "outputs": [
    {
     "data": {
      "text/plain": [
       "<AxesSubplot:ylabel='Density'>"
      ]
     },
     "execution_count": 12,
     "metadata": {},
     "output_type": "execute_result"
    },
    {
     "data": {
      "image/png": "[encoded data removed]",
      "text/plain": [
       "<Figure size 432x288 with 1 Axes>"
      ]
     },
     "metadata": {
      "needs_background": "light"
     },
     "output_type": "display_data"
    }
   ],
   "source": [
    "pd.DataFrame(Xtrain_ss).plot.kde()"
   ]
  },
  {
   "cell_type": "code",
   "execution_count": 13,
   "id": "056a5dd3",
   "metadata": {
    "execution": {
     "iopub.execute_input": "2022-08-17T11:14:03.899279Z",
     "iopub.status.busy": "2022-08-17T11:14:03.898567Z",
     "iopub.status.idle": "2022-08-17T11:14:05.110613Z",
     "shell.execute_reply": "2022-08-17T11:14:05.109491Z"
    },
    "papermill": {
     "duration": 1.227659,
     "end_time": "2022-08-17T11:14:05.113080",
     "exception": false,
     "start_time": "2022-08-17T11:14:03.885421",
     "status": "completed"
    },
    "tags": []
   },
   "outputs": [
    {
     "data": {
      "text/plain": [
       "<AxesSubplot:ylabel='Density'>"
      ]
     },
     "execution_count": 13,
     "metadata": {},
     "output_type": "execute_result"
    },
    {
     "data": {
      "image/png": "[encoded data removed]",
      "text/plain": [
       "<Figure size 432x288 with 1 Axes>"
      ]
     },
     "metadata": {
      "needs_background": "light"
     },
     "output_type": "display_data"
    }
   ],
   "source": [
    "pd.DataFrame(Xtest_ss).plot.kde()"
   ]
  },
  {
   "cell_type": "markdown",
   "id": "79a5c8ac",
   "metadata": {
    "papermill": {
     "duration": 0.012376,
     "end_time": "2022-08-17T11:14:05.138943",
     "exception": false,
     "start_time": "2022-08-17T11:14:05.126567",
     "status": "completed"
    },
    "tags": []
   },
   "source": [
    "**MODEL FITTING**"
   ]
  },
  {
   "cell_type": "markdown",
   "id": "6bd5dee5",
   "metadata": {
    "papermill": {
     "duration": 0.012316,
     "end_time": "2022-08-17T11:14:05.163930",
     "exception": false,
     "start_time": "2022-08-17T11:14:05.151614",
     "status": "completed"
    },
    "tags": []
   },
   "source": [
    "**Using GradientBoost Algorithm**"
   ]
  },
  {
   "cell_type": "code",
   "execution_count": 14,
   "id": "c92d400e",
   "metadata": {
    "execution": {
     "iopub.execute_input": "2022-08-17T11:14:05.191344Z",
     "iopub.status.busy": "2022-08-17T11:14:05.190661Z",
     "iopub.status.idle": "2022-08-17T11:14:05.388005Z",
     "shell.execute_reply": "2022-08-17T11:14:05.386875Z"
    },
    "papermill": {
     "duration": 0.214244,
     "end_time": "2022-08-17T11:14:05.390741",
     "exception": false,
     "start_time": "2022-08-17T11:14:05.176497",
     "status": "completed"
    },
    "tags": []
   },
   "outputs": [],
   "source": [
    "from sklearn.ensemble import GradientBoostingClassifier\n",
    "gbc = GradientBoostingClassifier()"
   ]
  },
  {
   "cell_type": "code",
   "execution_count": 15,
   "id": "30aed2c9",
   "metadata": {
    "execution": {
     "iopub.execute_input": "2022-08-17T11:14:05.417877Z",
     "iopub.status.busy": "2022-08-17T11:14:05.417467Z",
     "iopub.status.idle": "2022-08-17T11:14:08.595572Z",
     "shell.execute_reply": "2022-08-17T11:14:08.594276Z"
    },
    "papermill": {
     "duration": 3.194771,
     "end_time": "2022-08-17T11:14:08.598374",
     "exception": false,
     "start_time": "2022-08-17T11:14:05.403603",
     "status": "completed"
    },
    "tags": []
   },
   "outputs": [
    {
     "name": "stdout",
     "output_type": "stream",
     "text": [
      "Training Score: 0.8438735177865613\n",
      "Testing Score: 0.7092105263157895\n"
     ]
    }
   ],
   "source": [
    "#fitting the model and checking score on train and test data \n",
    "gbc.fit(Xtrain_ss,ytrain)\n",
    "print('Training Score:',gbc.score(Xtrain_ss,ytrain))\n",
    "print('Testing Score:',gbc.score(Xtest_ss,ytest))"
   ]
  },
  {
   "cell_type": "code",
   "execution_count": 16,
   "id": "09597dfe",
   "metadata": {
    "execution": {
     "iopub.execute_input": "2022-08-17T11:14:08.627612Z",
     "iopub.status.busy": "2022-08-17T11:14:08.625543Z",
     "iopub.status.idle": "2022-08-17T11:14:08.637309Z",
     "shell.execute_reply": "2022-08-17T11:14:08.636459Z"
    },
    "papermill": {
     "duration": 0.028465,
     "end_time": "2022-08-17T11:14:08.639856",
     "exception": false,
     "start_time": "2022-08-17T11:14:08.611391",
     "status": "completed"
    },
    "tags": []
   },
   "outputs": [],
   "source": [
    "ypred_tr = gbc.predict(Xtest_ss)"
   ]
  },
  {
   "cell_type": "markdown",
   "id": "addb17a4",
   "metadata": {
    "papermill": {
     "duration": 0.012655,
     "end_time": "2022-08-17T11:14:08.665396",
     "exception": false,
     "start_time": "2022-08-17T11:14:08.652741",
     "status": "completed"
    },
    "tags": []
   },
   "source": [
    "**Visualising the predictions with the help of Precision,Recall,Accuracy and Confusion Matrix**"
   ]
  },
  {
   "cell_type": "code",
   "execution_count": 17,
   "id": "40310fdc",
   "metadata": {
    "execution": {
     "iopub.execute_input": "2022-08-17T11:14:08.692510Z",
     "iopub.status.busy": "2022-08-17T11:14:08.692120Z",
     "iopub.status.idle": "2022-08-17T11:14:08.697056Z",
     "shell.execute_reply": "2022-08-17T11:14:08.695907Z"
    },
    "papermill": {
     "duration": 0.021125,
     "end_time": "2022-08-17T11:14:08.699246",
     "exception": false,
     "start_time": "2022-08-17T11:14:08.678121",
     "status": "completed"
    },
    "tags": []
   },
   "outputs": [],
   "source": [
    "from sklearn.metrics import classification_report\n",
    "from sklearn.metrics import ConfusionMatrixDisplay"
   ]
  },
  {
   "cell_type": "code",
   "execution_count": 18,
   "id": "6207c5dd",
   "metadata": {
    "execution": {
     "iopub.execute_input": "2022-08-17T11:14:08.727101Z",
     "iopub.status.busy": "2022-08-17T11:14:08.726473Z",
     "iopub.status.idle": "2022-08-17T11:14:09.073610Z",
     "shell.execute_reply": "2022-08-17T11:14:09.072593Z"
    },
    "papermill": {
     "duration": 0.363662,
     "end_time": "2022-08-17T11:14:09.075885",
     "exception": false,
     "start_time": "2022-08-17T11:14:08.712223",
     "status": "completed"
    },
    "tags": []
   },
   "outputs": [
    {
     "name": "stdout",
     "output_type": "stream",
     "text": [
      "              precision    recall  f1-score   support\n",
      "\n",
      "           0       0.79      0.67      0.72       252\n",
      "           1       0.74      0.88      0.81       375\n",
      "           2       0.40      0.30      0.34       133\n",
      "\n",
      "    accuracy                           0.71       760\n",
      "   macro avg       0.64      0.62      0.62       760\n",
      "weighted avg       0.70      0.71      0.70       760\n",
      "\n",
      "<sklearn.metrics._plot.confusion_matrix.ConfusionMatrixDisplay object at 0x7feaf7ae1b10>\n"
     ]
    },
    {
     "data": {
      "image/png": "[encoded data removed]",
      "text/plain": [
       "<Figure size 432x288 with 2 Axes>"
      ]
     },
     "metadata": {
      "needs_background": "light"
     },
     "output_type": "display_data"
    }
   ],
   "source": [
    "print(classification_report(ytest,ypred_tr))\n",
    "print(ConfusionMatrixDisplay.from_predictions(ytest,ypred_tr))"
   ]
  },
  {
   "cell_type": "markdown",
   "id": "d4f19188",
   "metadata": {
    "papermill": {
     "duration": 0.012633,
     "end_time": "2022-08-17T11:14:09.102387",
     "exception": false,
     "start_time": "2022-08-17T11:14:09.089754",
     "status": "completed"
    },
    "tags": []
   },
   "source": [
    "**USING HYPERPARAMETERS**"
   ]
  },
  {
   "cell_type": "code",
   "execution_count": 19,
   "id": "6c554b99",
   "metadata": {
    "execution": {
     "iopub.execute_input": "2022-08-17T11:14:09.130672Z",
     "iopub.status.busy": "2022-08-17T11:14:09.129901Z",
     "iopub.status.idle": "2022-08-17T11:14:09.135412Z",
     "shell.execute_reply": "2022-08-17T11:14:09.134667Z"
    },
    "papermill": {
     "duration": 0.021715,
     "end_time": "2022-08-17T11:14:09.137402",
     "exception": false,
     "start_time": "2022-08-17T11:14:09.115687",
     "status": "completed"
    },
    "tags": []
   },
   "outputs": [],
   "source": [
    "from sklearn.model_selection import GridSearchCV\n",
    "params = {'learning_rate':[0.1,0.2],\n",
    "         'n_estimators':[100,200],\n",
    "         'criterion':['friedman_mse', 'squared_error'],\n",
    "         'max_depth':[4,5],\n",
    "         'max_features':['sqrt','log2'],\n",
    "         'warm_start':[True,False]}"
   ]
  },
  {
   "cell_type": "code",
   "execution_count": 20,
   "id": "12aed1f3",
   "metadata": {
    "execution": {
     "iopub.execute_input": "2022-08-17T11:14:09.165101Z",
     "iopub.status.busy": "2022-08-17T11:14:09.164452Z",
     "iopub.status.idle": "2022-08-17T11:20:26.662577Z",
     "shell.execute_reply": "2022-08-17T11:20:26.661466Z"
    },
    "papermill": {
     "duration": 377.527051,
     "end_time": "2022-08-17T11:20:26.677442",
     "exception": false,
     "start_time": "2022-08-17T11:14:09.150391",
     "status": "completed"
    },
    "tags": []
   },
   "outputs": [
    {
     "data": {
      "text/plain": [
       "{'criterion': 'squared_error',\n",
       " 'learning_rate': 0.1,\n",
       " 'max_depth': 4,\n",
       " 'max_features': 'sqrt',\n",
       " 'n_estimators': 200,\n",
       " 'warm_start': False}"
      ]
     },
     "execution_count": 20,
     "metadata": {},
     "output_type": "execute_result"
    }
   ],
   "source": [
    "gc = GridSearchCV(gbc,params,cv = 4)\n",
    "gc.fit(Xtrain_ss,ytrain)\n",
    "gc.best_params_"
   ]
  },
  {
   "cell_type": "code",
   "execution_count": 21,
   "id": "2adea643",
   "metadata": {
    "execution": {
     "iopub.execute_input": "2022-08-17T11:20:26.705754Z",
     "iopub.status.busy": "2022-08-17T11:20:26.705113Z",
     "iopub.status.idle": "2022-08-17T11:20:26.758869Z",
     "shell.execute_reply": "2022-08-17T11:20:26.757803Z"
    },
    "papermill": {
     "duration": 0.070711,
     "end_time": "2022-08-17T11:20:26.761308",
     "exception": false,
     "start_time": "2022-08-17T11:20:26.690597",
     "status": "completed"
    },
    "tags": []
   },
   "outputs": [
    {
     "data": {
      "text/plain": [
       "0.9440052700922266"
      ]
     },
     "execution_count": 21,
     "metadata": {},
     "output_type": "execute_result"
    }
   ],
   "source": [
    "gc.score(Xtrain_ss,ytrain)"
   ]
  },
  {
   "cell_type": "code",
   "execution_count": 22,
   "id": "a6c39c63",
   "metadata": {
    "execution": {
     "iopub.execute_input": "2022-08-17T11:20:26.790089Z",
     "iopub.status.busy": "2022-08-17T11:20:26.789325Z",
     "iopub.status.idle": "2022-08-17T11:20:26.809855Z",
     "shell.execute_reply": "2022-08-17T11:20:26.808976Z"
    },
    "papermill": {
     "duration": 0.037367,
     "end_time": "2022-08-17T11:20:26.812020",
     "exception": false,
     "start_time": "2022-08-17T11:20:26.774653",
     "status": "completed"
    },
    "tags": []
   },
   "outputs": [
    {
     "data": {
      "text/plain": [
       "0.7263157894736842"
      ]
     },
     "execution_count": 22,
     "metadata": {},
     "output_type": "execute_result"
    }
   ],
   "source": [
    "gc.score(Xtest_ss,ytest)"
   ]
  },
  {
   "cell_type": "code",
   "execution_count": 23,
   "id": "990418ed",
   "metadata": {
    "execution": {
     "iopub.execute_input": "2022-08-17T11:20:26.840499Z",
     "iopub.status.busy": "2022-08-17T11:20:26.840101Z",
     "iopub.status.idle": "2022-08-17T11:20:27.071440Z",
     "shell.execute_reply": "2022-08-17T11:20:27.070606Z"
    },
    "papermill": {
     "duration": 0.24852,
     "end_time": "2022-08-17T11:20:27.073949",
     "exception": false,
     "start_time": "2022-08-17T11:20:26.825429",
     "status": "completed"
    },
    "tags": []
   },
   "outputs": [
    {
     "name": "stdout",
     "output_type": "stream",
     "text": [
      "              precision    recall  f1-score   support\n",
      "\n",
      "           0       0.80      0.69      0.74       252\n",
      "           1       0.75      0.89      0.82       375\n",
      "           2       0.45      0.32      0.37       133\n",
      "\n",
      "    accuracy                           0.73       760\n",
      "   macro avg       0.66      0.63      0.64       760\n",
      "weighted avg       0.71      0.73      0.71       760\n",
      "\n",
      "<sklearn.metrics._plot.confusion_matrix.ConfusionMatrixDisplay object at 0x7feaf795d190>\n"
     ]
    },
    {
     "data": {
      "image/png": "[encoded data removed]",
      "text/plain": [
       "<Figure size 432x288 with 2 Axes>"
      ]
     },
     "metadata": {
      "needs_background": "light"
     },
     "output_type": "display_data"
    }
   ],
   "source": [
    "ypred_tr = gc.predict(Xtest_ss)\n",
    "print(classification_report(ytest,ypred_tr))\n",
    "print(ConfusionMatrixDisplay.from_predictions(ytest,ypred_tr))"
   ]
  },
  {
   "cell_type": "markdown",
   "id": "849bc383",
   "metadata": {
    "papermill": {
     "duration": 0.013571,
     "end_time": "2022-08-17T11:20:27.101951",
     "exception": false,
     "start_time": "2022-08-17T11:20:27.088380",
     "status": "completed"
    },
    "tags": []
   },
   "source": [
    "**LOADING THE TEST DATA**"
   ]
  },
  {
   "cell_type": "code",
   "execution_count": 24,
   "id": "d9ecb9af",
   "metadata": {
    "execution": {
     "iopub.execute_input": "2022-08-17T11:20:27.131368Z",
     "iopub.status.busy": "2022-08-17T11:20:27.130697Z",
     "iopub.status.idle": "2022-08-17T11:20:27.175879Z",
     "shell.execute_reply": "2022-08-17T11:20:27.174997Z"
    },
    "papermill": {
     "duration": 0.062678,
     "end_time": "2022-08-17T11:20:27.178279",
     "exception": false,
     "start_time": "2022-08-17T11:20:27.115601",
     "status": "completed"
    },
    "tags": []
   },
   "outputs": [
    {
     "data": {
      "text/html": [
       "<div>\n",
       "<style scoped>\n",
       "    .dataframe tbody tr th:only-of-type {\n",
       "        vertical-align: middle;\n",
       "    }\n",
       "\n",
       "    .dataframe tbody tr th {\n",
       "        vertical-align: top;\n",
       "    }\n",
       "\n",
       "    .dataframe thead th {\n",
       "        text-align: right;\n",
       "    }\n",
       "</style>\n",
       "<table border=\"1\" class=\"dataframe\">\n",
       "  <thead>\n",
       "    <tr style=\"text-align: right;\">\n",
       "      <th></th>\n",
       "      <th>id</th>\n",
       "      <th>v_21</th>\n",
       "      <th>v_32</th>\n",
       "      <th>v_15</th>\n",
       "      <th>v_4</th>\n",
       "      <th>v_1</th>\n",
       "      <th>v_8</th>\n",
       "      <th>v_12</th>\n",
       "      <th>v_25</th>\n",
       "      <th>v_20</th>\n",
       "      <th>...</th>\n",
       "      <th>v_7</th>\n",
       "      <th>v_2</th>\n",
       "      <th>v_16</th>\n",
       "      <th>v_34</th>\n",
       "      <th>v_35</th>\n",
       "      <th>v_36</th>\n",
       "      <th>v_37</th>\n",
       "      <th>v_38</th>\n",
       "      <th>v_39</th>\n",
       "      <th>v_40</th>\n",
       "    </tr>\n",
       "  </thead>\n",
       "  <tbody>\n",
       "    <tr>\n",
       "      <th>0</th>\n",
       "      <td>0</td>\n",
       "      <td>9</td>\n",
       "      <td>90</td>\n",
       "      <td>15</td>\n",
       "      <td>121</td>\n",
       "      <td>1</td>\n",
       "      <td>8</td>\n",
       "      <td>23</td>\n",
       "      <td>114</td>\n",
       "      <td>256</td>\n",
       "      <td>...</td>\n",
       "      <td>10.8</td>\n",
       "      <td>10.4</td>\n",
       "      <td>6.74</td>\n",
       "      <td>4</td>\n",
       "      <td>96</td>\n",
       "      <td>36</td>\n",
       "      <td>34</td>\n",
       "      <td>23</td>\n",
       "      <td>72</td>\n",
       "      <td>5</td>\n",
       "    </tr>\n",
       "    <tr>\n",
       "      <th>1</th>\n",
       "      <td>1</td>\n",
       "      <td>7</td>\n",
       "      <td>123</td>\n",
       "      <td>14</td>\n",
       "      <td>126</td>\n",
       "      <td>1</td>\n",
       "      <td>5</td>\n",
       "      <td>19</td>\n",
       "      <td>3</td>\n",
       "      <td>40</td>\n",
       "      <td>...</td>\n",
       "      <td>19.4</td>\n",
       "      <td>0.5</td>\n",
       "      <td>6.79</td>\n",
       "      <td>15</td>\n",
       "      <td>78</td>\n",
       "      <td>12</td>\n",
       "      <td>25</td>\n",
       "      <td>27</td>\n",
       "      <td>67</td>\n",
       "      <td>12</td>\n",
       "    </tr>\n",
       "    <tr>\n",
       "      <th>2</th>\n",
       "      <td>2</td>\n",
       "      <td>3</td>\n",
       "      <td>6</td>\n",
       "      <td>10</td>\n",
       "      <td>102</td>\n",
       "      <td>1</td>\n",
       "      <td>1</td>\n",
       "      <td>16</td>\n",
       "      <td>181</td>\n",
       "      <td>168</td>\n",
       "      <td>...</td>\n",
       "      <td>7.6</td>\n",
       "      <td>2.6</td>\n",
       "      <td>0.32</td>\n",
       "      <td>4</td>\n",
       "      <td>81</td>\n",
       "      <td>47</td>\n",
       "      <td>30</td>\n",
       "      <td>54</td>\n",
       "      <td>23</td>\n",
       "      <td>4</td>\n",
       "    </tr>\n",
       "    <tr>\n",
       "      <th>3</th>\n",
       "      <td>3</td>\n",
       "      <td>3</td>\n",
       "      <td>6</td>\n",
       "      <td>10</td>\n",
       "      <td>148</td>\n",
       "      <td>1</td>\n",
       "      <td>1</td>\n",
       "      <td>16</td>\n",
       "      <td>110</td>\n",
       "      <td>278</td>\n",
       "      <td>...</td>\n",
       "      <td>11.1</td>\n",
       "      <td>0.6</td>\n",
       "      <td>2.02</td>\n",
       "      <td>4</td>\n",
       "      <td>100</td>\n",
       "      <td>6</td>\n",
       "      <td>23</td>\n",
       "      <td>12</td>\n",
       "      <td>28</td>\n",
       "      <td>1</td>\n",
       "    </tr>\n",
       "    <tr>\n",
       "      <th>4</th>\n",
       "      <td>4</td>\n",
       "      <td>3</td>\n",
       "      <td>6</td>\n",
       "      <td>10</td>\n",
       "      <td>148</td>\n",
       "      <td>1</td>\n",
       "      <td>1</td>\n",
       "      <td>16</td>\n",
       "      <td>1</td>\n",
       "      <td>168</td>\n",
       "      <td>...</td>\n",
       "      <td>7.6</td>\n",
       "      <td>2.6</td>\n",
       "      <td>0.32</td>\n",
       "      <td>7</td>\n",
       "      <td>97</td>\n",
       "      <td>25</td>\n",
       "      <td>30</td>\n",
       "      <td>18</td>\n",
       "      <td>52</td>\n",
       "      <td>0</td>\n",
       "    </tr>\n",
       "  </tbody>\n",
       "</table>\n",
       "<p>5 rows × 42 columns</p>\n",
       "</div>"
      ],
      "text/plain": [
       "   id  v_21  v_32  v_15  v_4  v_1  v_8  v_12  v_25  v_20  ...   v_7   v_2  \\\n",
       "0   0     9    90    15  121    1    8    23   114   256  ...  10.8  10.4   \n",
       "1   1     7   123    14  126    1    5    19     3    40  ...  19.4   0.5   \n",
       "2   2     3     6    10  102    1    1    16   181   168  ...   7.6   2.6   \n",
       "3   3     3     6    10  148    1    1    16   110   278  ...  11.1   0.6   \n",
       "4   4     3     6    10  148    1    1    16     1   168  ...   7.6   2.6   \n",
       "\n",
       "   v_16  v_34  v_35  v_36  v_37  v_38  v_39  v_40  \n",
       "0  6.74     4    96    36    34    23    72     5  \n",
       "1  6.79    15    78    12    25    27    67    12  \n",
       "2  0.32     4    81    47    30    54    23     4  \n",
       "3  2.02     4   100     6    23    12    28     1  \n",
       "4  0.32     7    97    25    30    18    52     0  \n",
       "\n",
       "[5 rows x 42 columns]"
      ]
     },
     "execution_count": 24,
     "metadata": {},
     "output_type": "execute_result"
    }
   ],
   "source": [
    "test = pd.read_csv('../input/students-drop-out-prediction/test.csv')\n",
    "test.head()"
   ]
  },
  {
   "cell_type": "code",
   "execution_count": 25,
   "id": "896feb53",
   "metadata": {
    "execution": {
     "iopub.execute_input": "2022-08-17T11:20:27.207446Z",
     "iopub.status.busy": "2022-08-17T11:20:27.207055Z",
     "iopub.status.idle": "2022-08-17T11:20:27.228860Z",
     "shell.execute_reply": "2022-08-17T11:20:27.227785Z"
    },
    "papermill": {
     "duration": 0.038658,
     "end_time": "2022-08-17T11:20:27.230984",
     "exception": false,
     "start_time": "2022-08-17T11:20:27.192326",
     "status": "completed"
    },
    "tags": []
   },
   "outputs": [
    {
     "data": {
      "text/html": [
       "<div>\n",
       "<style scoped>\n",
       "    .dataframe tbody tr th:only-of-type {\n",
       "        vertical-align: middle;\n",
       "    }\n",
       "\n",
       "    .dataframe tbody tr th {\n",
       "        vertical-align: top;\n",
       "    }\n",
       "\n",
       "    .dataframe thead th {\n",
       "        text-align: right;\n",
       "    }\n",
       "</style>\n",
       "<table border=\"1\" class=\"dataframe\">\n",
       "  <thead>\n",
       "    <tr style=\"text-align: right;\">\n",
       "      <th></th>\n",
       "      <th>v_21</th>\n",
       "      <th>v_32</th>\n",
       "      <th>v_15</th>\n",
       "      <th>v_4</th>\n",
       "      <th>v_1</th>\n",
       "      <th>v_8</th>\n",
       "      <th>v_12</th>\n",
       "      <th>v_25</th>\n",
       "      <th>v_20</th>\n",
       "      <th>v_18</th>\n",
       "      <th>...</th>\n",
       "      <th>v_7</th>\n",
       "      <th>v_2</th>\n",
       "      <th>v_16</th>\n",
       "      <th>v_34</th>\n",
       "      <th>v_35</th>\n",
       "      <th>v_36</th>\n",
       "      <th>v_37</th>\n",
       "      <th>v_38</th>\n",
       "      <th>v_39</th>\n",
       "      <th>v_40</th>\n",
       "    </tr>\n",
       "  </thead>\n",
       "  <tbody>\n",
       "    <tr>\n",
       "      <th>0</th>\n",
       "      <td>9</td>\n",
       "      <td>90</td>\n",
       "      <td>15</td>\n",
       "      <td>121</td>\n",
       "      <td>1</td>\n",
       "      <td>8</td>\n",
       "      <td>23</td>\n",
       "      <td>114</td>\n",
       "      <td>256</td>\n",
       "      <td>108</td>\n",
       "      <td>...</td>\n",
       "      <td>10.8</td>\n",
       "      <td>10.4</td>\n",
       "      <td>6.74</td>\n",
       "      <td>4</td>\n",
       "      <td>96</td>\n",
       "      <td>36</td>\n",
       "      <td>34</td>\n",
       "      <td>23</td>\n",
       "      <td>72</td>\n",
       "      <td>5</td>\n",
       "    </tr>\n",
       "    <tr>\n",
       "      <th>1</th>\n",
       "      <td>7</td>\n",
       "      <td>123</td>\n",
       "      <td>14</td>\n",
       "      <td>126</td>\n",
       "      <td>1</td>\n",
       "      <td>5</td>\n",
       "      <td>19</td>\n",
       "      <td>3</td>\n",
       "      <td>40</td>\n",
       "      <td>261</td>\n",
       "      <td>...</td>\n",
       "      <td>19.4</td>\n",
       "      <td>0.5</td>\n",
       "      <td>6.79</td>\n",
       "      <td>15</td>\n",
       "      <td>78</td>\n",
       "      <td>12</td>\n",
       "      <td>25</td>\n",
       "      <td>27</td>\n",
       "      <td>67</td>\n",
       "      <td>12</td>\n",
       "    </tr>\n",
       "    <tr>\n",
       "      <th>2</th>\n",
       "      <td>3</td>\n",
       "      <td>6</td>\n",
       "      <td>10</td>\n",
       "      <td>102</td>\n",
       "      <td>1</td>\n",
       "      <td>1</td>\n",
       "      <td>16</td>\n",
       "      <td>181</td>\n",
       "      <td>168</td>\n",
       "      <td>103</td>\n",
       "      <td>...</td>\n",
       "      <td>7.6</td>\n",
       "      <td>2.6</td>\n",
       "      <td>0.32</td>\n",
       "      <td>4</td>\n",
       "      <td>81</td>\n",
       "      <td>47</td>\n",
       "      <td>30</td>\n",
       "      <td>54</td>\n",
       "      <td>23</td>\n",
       "      <td>4</td>\n",
       "    </tr>\n",
       "    <tr>\n",
       "      <th>3</th>\n",
       "      <td>3</td>\n",
       "      <td>6</td>\n",
       "      <td>10</td>\n",
       "      <td>148</td>\n",
       "      <td>1</td>\n",
       "      <td>1</td>\n",
       "      <td>16</td>\n",
       "      <td>110</td>\n",
       "      <td>278</td>\n",
       "      <td>103</td>\n",
       "      <td>...</td>\n",
       "      <td>11.1</td>\n",
       "      <td>0.6</td>\n",
       "      <td>2.02</td>\n",
       "      <td>4</td>\n",
       "      <td>100</td>\n",
       "      <td>6</td>\n",
       "      <td>23</td>\n",
       "      <td>12</td>\n",
       "      <td>28</td>\n",
       "      <td>1</td>\n",
       "    </tr>\n",
       "    <tr>\n",
       "      <th>4</th>\n",
       "      <td>3</td>\n",
       "      <td>6</td>\n",
       "      <td>10</td>\n",
       "      <td>148</td>\n",
       "      <td>1</td>\n",
       "      <td>1</td>\n",
       "      <td>16</td>\n",
       "      <td>1</td>\n",
       "      <td>168</td>\n",
       "      <td>12</td>\n",
       "      <td>...</td>\n",
       "      <td>7.6</td>\n",
       "      <td>2.6</td>\n",
       "      <td>0.32</td>\n",
       "      <td>7</td>\n",
       "      <td>97</td>\n",
       "      <td>25</td>\n",
       "      <td>30</td>\n",
       "      <td>18</td>\n",
       "      <td>52</td>\n",
       "      <td>0</td>\n",
       "    </tr>\n",
       "  </tbody>\n",
       "</table>\n",
       "<p>5 rows × 41 columns</p>\n",
       "</div>"
      ],
      "text/plain": [
       "   v_21  v_32  v_15  v_4  v_1  v_8  v_12  v_25  v_20  v_18  ...   v_7   v_2  \\\n",
       "0     9    90    15  121    1    8    23   114   256   108  ...  10.8  10.4   \n",
       "1     7   123    14  126    1    5    19     3    40   261  ...  19.4   0.5   \n",
       "2     3     6    10  102    1    1    16   181   168   103  ...   7.6   2.6   \n",
       "3     3     6    10  148    1    1    16   110   278   103  ...  11.1   0.6   \n",
       "4     3     6    10  148    1    1    16     1   168    12  ...   7.6   2.6   \n",
       "\n",
       "   v_16  v_34  v_35  v_36  v_37  v_38  v_39  v_40  \n",
       "0  6.74     4    96    36    34    23    72     5  \n",
       "1  6.79    15    78    12    25    27    67    12  \n",
       "2  0.32     4    81    47    30    54    23     4  \n",
       "3  2.02     4   100     6    23    12    28     1  \n",
       "4  0.32     7    97    25    30    18    52     0  \n",
       "\n",
       "[5 rows x 41 columns]"
      ]
     },
     "execution_count": 25,
     "metadata": {},
     "output_type": "execute_result"
    }
   ],
   "source": [
    "#removing the id column from test data\n",
    "test_id = test.drop('id',axis = 1)\n",
    "test_id.head()"
   ]
  },
  {
   "cell_type": "code",
   "execution_count": 26,
   "id": "c44bf5dd",
   "metadata": {
    "execution": {
     "iopub.execute_input": "2022-08-17T11:20:27.260582Z",
     "iopub.status.busy": "2022-08-17T11:20:27.260005Z",
     "iopub.status.idle": "2022-08-17T11:20:27.267164Z",
     "shell.execute_reply": "2022-08-17T11:20:27.266281Z"
    },
    "papermill": {
     "duration": 0.024197,
     "end_time": "2022-08-17T11:20:27.269308",
     "exception": false,
     "start_time": "2022-08-17T11:20:27.245111",
     "status": "completed"
    },
    "tags": []
   },
   "outputs": [],
   "source": [
    "#scaling the test data\n",
    "test_id = ss.transform(test_id)"
   ]
  },
  {
   "cell_type": "code",
   "execution_count": 27,
   "id": "537394c8",
   "metadata": {
    "execution": {
     "iopub.execute_input": "2022-08-17T11:20:27.298639Z",
     "iopub.status.busy": "2022-08-17T11:20:27.298282Z",
     "iopub.status.idle": "2022-08-17T11:20:27.327834Z",
     "shell.execute_reply": "2022-08-17T11:20:27.326967Z"
    },
    "papermill": {
     "duration": 0.04682,
     "end_time": "2022-08-17T11:20:27.330083",
     "exception": false,
     "start_time": "2022-08-17T11:20:27.283263",
     "status": "completed"
    },
    "tags": []
   },
   "outputs": [],
   "source": [
    "#predictions on test data\n",
    "ypred_test = gc.predict(test_id)"
   ]
  },
  {
   "cell_type": "code",
   "execution_count": 28,
   "id": "16cd11d8",
   "metadata": {
    "execution": {
     "iopub.execute_input": "2022-08-17T11:20:27.359778Z",
     "iopub.status.busy": "2022-08-17T11:20:27.359286Z",
     "iopub.status.idle": "2022-08-17T11:20:27.370095Z",
     "shell.execute_reply": "2022-08-17T11:20:27.369006Z"
    },
    "papermill": {
     "duration": 0.029356,
     "end_time": "2022-08-17T11:20:27.373462",
     "exception": false,
     "start_time": "2022-08-17T11:20:27.344106",
     "status": "completed"
    },
    "tags": []
   },
   "outputs": [],
   "source": [
    "#storing the prediction and id in a dataframe\n",
    "file = pd.DataFrame(data = test.id,columns = ['id'])\n",
    "file['label'] = ypred_test"
   ]
  },
  {
   "cell_type": "code",
   "execution_count": 29,
   "id": "03d85da7",
   "metadata": {
    "execution": {
     "iopub.execute_input": "2022-08-17T11:20:27.404562Z",
     "iopub.status.busy": "2022-08-17T11:20:27.404084Z",
     "iopub.status.idle": "2022-08-17T11:20:27.413490Z",
     "shell.execute_reply": "2022-08-17T11:20:27.412550Z"
    },
    "papermill": {
     "duration": 0.026844,
     "end_time": "2022-08-17T11:20:27.415774",
     "exception": false,
     "start_time": "2022-08-17T11:20:27.388930",
     "status": "completed"
    },
    "tags": []
   },
   "outputs": [
    {
     "data": {
      "text/html": [
       "<div>\n",
       "<style scoped>\n",
       "    .dataframe tbody tr th:only-of-type {\n",
       "        vertical-align: middle;\n",
       "    }\n",
       "\n",
       "    .dataframe tbody tr th {\n",
       "        vertical-align: top;\n",
       "    }\n",
       "\n",
       "    .dataframe thead th {\n",
       "        text-align: right;\n",
       "    }\n",
       "</style>\n",
       "<table border=\"1\" class=\"dataframe\">\n",
       "  <thead>\n",
       "    <tr style=\"text-align: right;\">\n",
       "      <th></th>\n",
       "      <th>id</th>\n",
       "      <th>label</th>\n",
       "    </tr>\n",
       "  </thead>\n",
       "  <tbody>\n",
       "    <tr>\n",
       "      <th>0</th>\n",
       "      <td>0</td>\n",
       "      <td>1</td>\n",
       "    </tr>\n",
       "    <tr>\n",
       "      <th>1</th>\n",
       "      <td>1</td>\n",
       "      <td>1</td>\n",
       "    </tr>\n",
       "    <tr>\n",
       "      <th>2</th>\n",
       "      <td>2</td>\n",
       "      <td>1</td>\n",
       "    </tr>\n",
       "    <tr>\n",
       "      <th>3</th>\n",
       "      <td>3</td>\n",
       "      <td>1</td>\n",
       "    </tr>\n",
       "    <tr>\n",
       "      <th>4</th>\n",
       "      <td>4</td>\n",
       "      <td>1</td>\n",
       "    </tr>\n",
       "  </tbody>\n",
       "</table>\n",
       "</div>"
      ],
      "text/plain": [
       "   id  label\n",
       "0   0      1\n",
       "1   1      1\n",
       "2   2      1\n",
       "3   3      1\n",
       "4   4      1"
      ]
     },
     "execution_count": 29,
     "metadata": {},
     "output_type": "execute_result"
    }
   ],
   "source": [
    "file.head()"
   ]
  },
  {
   "cell_type": "code",
   "execution_count": 30,
   "id": "15b649cd",
   "metadata": {
    "execution": {
     "iopub.execute_input": "2022-08-17T11:20:27.445652Z",
     "iopub.status.busy": "2022-08-17T11:20:27.445302Z",
     "iopub.status.idle": "2022-08-17T11:20:27.453116Z",
     "shell.execute_reply": "2022-08-17T11:20:27.452156Z"
    },
    "papermill": {
     "duration": 0.025119,
     "end_time": "2022-08-17T11:20:27.455219",
     "exception": false,
     "start_time": "2022-08-17T11:20:27.430100",
     "status": "completed"
    },
    "tags": []
   },
   "outputs": [
    {
     "data": {
      "text/plain": [
       "1    924\n",
       "0    511\n",
       "2    193\n",
       "Name: label, dtype: int64"
      ]
     },
     "execution_count": 30,
     "metadata": {},
     "output_type": "execute_result"
    }
   ],
   "source": [
    "file.label.value_counts()"
   ]
  },
  {
   "cell_type": "code",
   "execution_count": 31,
   "id": "537eae6d",
   "metadata": {
    "execution": {
     "iopub.execute_input": "2022-08-17T11:20:27.485793Z",
     "iopub.status.busy": "2022-08-17T11:20:27.485216Z",
     "iopub.status.idle": "2022-08-17T11:20:27.493397Z",
     "shell.execute_reply": "2022-08-17T11:20:27.492645Z"
    },
    "papermill": {
     "duration": 0.025926,
     "end_time": "2022-08-17T11:20:27.495546",
     "exception": false,
     "start_time": "2022-08-17T11:20:27.469620",
     "status": "completed"
    },
    "tags": []
   },
   "outputs": [],
   "source": [
    "#converting to csv format\n",
    "file.to_csv('submission.csv',index = False)"
   ]
  },
  {
   "cell_type": "code",
   "execution_count": null,
   "id": "ebd88a0d",
   "metadata": {
    "papermill": {
     "duration": 0.014048,
     "end_time": "2022-08-17T11:20:27.524288",
     "exception": false,
     "start_time": "2022-08-17T11:20:27.510240",
     "status": "completed"
    },
    "tags": []
   },
   "outputs": [],
   "source": []
  }
 ],
 "metadata": {
  "kernelspec": {
   "display_name": "Python 3",
   "language": "python",
   "name": "python3"
  },
  "language_info": {
   "codemirror_mode": {
    "name": "ipython",
    "version": 3
   },
   "file_extension": ".py",
   "mimetype": "text/x-python",
   "name": "python",
   "nbconvert_exporter": "python",
   "pygments_lexer": "ipython3",
   "version": "3.7.12"
  },
  "papermill": {
   "default_parameters": {},
   "duration": 401.101577,
   "end_time": "2022-08-17T11:20:28.259852",
   "environment_variables": {},
   "exception": null,
   "input_path": "__notebook__.ipynb",
   "output_path": "__notebook__.ipynb",
   "parameters": {},
   "start_time": "2022-08-17T11:13:47.158275",
   "version": "2.3.4"
  }
 },
 "nbformat": 4,
 "nbformat_minor": 5
}
